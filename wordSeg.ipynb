{
 "cells": [
  {
   "cell_type": "code",
   "execution_count": 305,
   "metadata": {},
   "outputs": [],
   "source": [
    "\n",
    "import numpy as np\n",
    "import matplotlib.pyplot as plt\n",
    "import cv2\n",
    "import math\n",
    "from collections import OrderedDict\n",
    "\n",
    "# Dans [redresser] :\n",
    "def deskew(img):\n",
    "    thresh=img\n",
    "    edges = cv2.Canny(thresh,50,200,apertureSize = 3)\n",
    "    \n",
    "    lines = cv2.HoughLines(edges,1,np.pi/1000, 55)\n",
    "    try:\n",
    "        d1 = OrderedDict()\n",
    "        for i in range(len(lines)):\n",
    "            for rho,theta in lines[i]:\n",
    "                deg = np.rad2deg(theta)\n",
    "#                print(deg)\n",
    "                if deg in d1:\n",
    "                    d1[deg] += 1\n",
    "                else:\n",
    "                    d1[deg] = 1\n",
    "                    \n",
    "        t1 = OrderedDict(sorted(d1.items(), key=lambda x:x[1] , reverse=False))\n",
    "        print(list(t1.keys())[0],'Angle' ,thresh.shape)\n",
    "        non_zero_pixels = cv2.findNonZero(thresh)\n",
    "        center, wh, theta = cv2.minAreaRect(non_zero_pixels)\n",
    "        angle=list(t1.keys())[0]\n",
    "        if angle>160:\n",
    "            angle=180-angle\n",
    "        if angle<160 and angle>20:\n",
    "            angle=12        \n",
    "        root_mat = cv2.getRotationMatrix2D(center, angle, 1)\n",
    "        rows, cols = img.shape\n",
    "        rotated = cv2.warpAffine(img, root_mat, (cols, rows), flags=cv2.INTER_CUBIC)\n",
    "        \n",
    "    except:\n",
    "        rotated=img\n",
    "        pass\n",
    "    return rotated\n",
    "\n",
    "def unshear(img):  #défaire\n",
    "\n",
    "    gray = img\n",
    "    thresh = img.copy()\n",
    "   #print(battre)\n",
    "    #plt.imshow(thresh)\n",
    "    #plt.show()\n",
    "    trans = thresh.transpose()\n",
    "\n",
    "    arr=[]\n",
    "    for i in range(thresh.shape[1]):\n",
    "        arr.insert(0,trans[i].sum())\n",
    "\n",
    "    arr=[]\n",
    "    for i in range(thresh.shape[0]):\n",
    "        arr.insert(0,thresh[i].sum())\n",
    "    \n",
    "    y = thresh.shape[0]-1-np.nonzero(arr)[0][0]\n",
    "    y_top = thresh.shape[0]-1-np.nonzero(arr)[0][-1]\n",
    "\n",
    "    trans1 = thresh.transpose()\n",
    "    sum1=[]\n",
    "    for i in range(trans1.shape[0]):\n",
    "        sum1.insert(i,trans1[i].sum())\n",
    "\n",
    "    height = y - y_top\n",
    "    max_value = 255*height\n",
    "    prev_num = len([i for i in sum1 if i>=(0.6*max_value)])\n",
    "    final_ang = 0\n",
    "\n",
    "    # # print(arr)\n",
    "    # # print(x,y)\n",
    "    for ang in range(-25,25,3):\n",
    "        thresh = gray.copy()\n",
    "        #print(thresh[0].shape)\n",
    "        #print(ang)\n",
    "        #print('Ang',ang)\n",
    "        if ang>0:\n",
    "            #print(ang)\n",
    "            for i in range(y):\n",
    "                temp = thresh[i]\n",
    "                move = int((y-i)*(math.tan(math.radians(ang))))\n",
    "                if move >= temp.size:\n",
    "                    move = temp.size\n",
    "                thresh[i][:temp.size-move]=temp[move:]\n",
    "                thresh[i][temp.size-move:] = [0 for m in range(move)]\n",
    "        else:\n",
    "            #print(ang)\n",
    "            for i in range(y):\n",
    "                temp = thresh[i]\n",
    "                move = int((y-i)*(math.tan(math.radians(-ang))))\n",
    "                if move >= temp.size:\n",
    "                    move = temp.size\n",
    "                #print(temp[:-3])\n",
    "                #print(temp[:temp.size-move].shape, thresh[i][move%temp.size:].shape)\n",
    "                thresh[i][move:]=temp[:temp.size-move]\n",
    "                thresh[i][:move]=[0 for m in range(move)]\n",
    "\n",
    "#         plt.imshow(thresh)\n",
    "#         plt.show()\n",
    "        trans1 = thresh.transpose()\n",
    "        sum1=[]\n",
    "        for i in range(trans1.shape[0]):\n",
    "            sum1.insert(i,trans1[i].sum())\n",
    "        #print(sum1)\n",
    "        num = len([i for i in sum1 if i>=(0.60*max_value)])\n",
    "        #print(num, prev_num)\n",
    "        if(num>=prev_num):\n",
    "            prev_num=num\n",
    "            final_ang = ang\n",
    "        #plt.imshow(thresh)\n",
    "        #plt.show()\n",
    "    #print(\"final_ang:\", final_ang)\n",
    "\n",
    "    thresh= gray.copy()\n",
    "    if final_ang>0:\n",
    "        for i in range(y):\n",
    "            temp = thresh[i]\n",
    "            move = int((y-i)*(math.tan(math.radians(final_ang))))\n",
    "            if move >= temp.size:\n",
    "                move = temp.size\n",
    "            thresh[i][:temp.size-move]=temp[move:]\n",
    "            thresh[i][temp.size-move:] = [0 for m in range(move)]\n",
    "    else:\n",
    "        for i in range(y):\n",
    "            temp = thresh[i]\n",
    "            move = int((y-i)*(math.tan(math.radians(-final_ang))))\n",
    "            #print(move)\n",
    "            if move >= temp.size:\n",
    "                move = temp.size\n",
    "            thresh[i][move:]=temp[:temp.size-move]\n",
    "            thresh[i][:move]=[0 for m in range(move)]\n",
    "\n",
    "#    plt.imshow(thresh)\n",
    "#    plt.show()\n",
    "    return thresh\n",
    "\n",
    "\n",
    "# In[Main]:\n",
    "\n",
    "def pad_with(vector, pad_width, iaxis, kwargs):\n",
    "     pad_value = kwargs.get('padder', 40)\n",
    "     vector[:pad_width[0]] = pad_value\n",
    "     vector[-pad_width[1]:] = pad_value\n",
    "     return vector\n",
    "\n",
    "\n",
    "# In[31]:\n",
    "\n",
    "\n",
    "def preprocess(path):\n",
    "    img = cv2.imread(path,0)\n",
    "    thresh = cv2.threshold(img,100,500,1)[1]\n",
    "    thresh=np.pad(thresh, 100, pad_with, padder=0)\n",
    "    sheared_img = unshear(thresh)\n",
    "    ret, thresh = cv2.threshold(sheared_img,0,255,cv2.THRESH_BINARY_INV+cv2.THRESH_OTSU)\n",
    "    plt.imshow(thresh,'gray')\n",
    "    cv2.imwrite('c.png',thresh)\n",
    "    img=cv2.imread('c.png')\n",
    "    return img\n",
    "\n",
    "\n",
    "# In[ ]:\n",
    "\n",
    "\n",
    "\n",
    "\n",
    "\n",
    "# In[28]:\n",
    "\n",
    "\n",
    "\n",
    "def findCapPoints(img): #trouverCapPoints\n",
    "    cpoints=[]\n",
    "    dpoints=[]\n",
    "    for i in range(img.shape[1]):\n",
    "        col = img[:,i:i+1]\n",
    "        k = col.shape[0]\n",
    "        while k > 0:\n",
    "            if col[k-1]==255:\n",
    "                dpoints.append((i,k))\n",
    "                break\n",
    "            k-=1\n",
    "        \n",
    "        for j in range(col.shape[0]):\n",
    "            if col[j]==255:\n",
    "                cpoints.append((i,j))\n",
    "                break\n",
    "    return cpoints,dpoints\n",
    "\n",
    "# In[lineSegment]\n",
    "#*****************************************************************************#\n",
    "def lineSegment(img):\n",
    "    gray = cv2.cvtColor(img, cv2.COLOR_BGR2GRAY)\n",
    "    th, threshed = cv2.threshold(gray, 127, 255, cv2.THRESH_BINARY_INV|cv2.THRESH_OTSU)\n",
    "   \n",
    "    upper=[]\n",
    "    lower=[]\n",
    "    flag=True\n",
    "    for i in range(threshed.shape[0]): # Vérifier l'intensité de pixels blancs pour chaque ligne de l'image\n",
    "\n",
    "        col = threshed[i:i+1,:] # on est à la ligne i\n",
    "        cnt=0                   # variable pour compter les pixels blancs de chaque ligne\n",
    "        if flag:\n",
    "            cnt=np.count_nonzero(col == 255) \n",
    "            if cnt >0:                  # si le nombre de pixel blanc superieur à 0 la ligne set ajouté comme ligne superieur\n",
    "                upper.append(i)     \n",
    "                flag=False\n",
    "        else:\n",
    "            cnt=np.count_nonzero(col == 255)  \n",
    "            if cnt <2:  # sinon si 0<cnt<2 c-a-d cnt==1 elle est superieur et inferieur\n",
    "                lower.append(i)     # si cnt==0 elle est inferieur (ça doit être des cas rares)\n",
    "                flag=True \n",
    "    textLines=[]  # Finalement les lignes avec texte sont celles dont l'intensité est à la fois faible et forte\n",
    "    if len(upper)!= len(lower):lower.append(threshed.shape[0]) \n",
    "#    #print upper\n",
    "#    #print lower\n",
    "    for i in range(len(upper)):\n",
    "        timg=img[upper[i]:lower[i],0:] # les lignes étant dans l'ordre croissant et comme toutes ligne dont cnt!=0 est forcement upper \n",
    "                                    # alors on admet que l'indice de la ligne i (upper[i]) est superieur à celui de la ligne i (lower[i])\n",
    "        if timg.shape[0]>5: # si le nombre de ligne qui les sépare est plus grand que 5 alors l'image ces deux lignes est contient du texte\n",
    "            #plt.imshow(timg)\n",
    "            #plt.show()\n",
    "            timg=cv2.resize(timg,((timg.shape[1]*5,timg.shape[0]*8)))\n",
    "            textLines.append(timg) # on ajoute donc cette image comme ligne de texte\n",
    "    print ('No. of Lines',len(textLines))\n",
    "    return textLines # la derniere ligne sera toujours lower\n",
    "#*****************************************************************************#\n",
    "\n",
    "# In[wordSegment]\n",
    "#*****************************************************************************#\n",
    "def wordSegment(textLines):\n",
    "    wordImgList=[]\n",
    "    counter=0\n",
    "    cl=0\n",
    "    for txtLine in textLines:                         \n",
    "        gray = cv2.cvtColor(txtLine, cv2.COLOR_BGR2GRAY)\n",
    "        th, threshed = cv2.threshold(gray, 100, 255, cv2.THRESH_BINARY_INV|cv2.THRESH_OTSU)\n",
    "        final_thr = cv2.dilate(threshed,None,iterations = 20)\n",
    "\n",
    "        #plt.imshow(final_thr)\n",
    "        #plt.show()\n",
    "\n",
    "        contours, hierarchy = cv2.findContours(final_thr,cv2.RETR_EXTERNAL,cv2.CHAIN_APPROX_SIMPLE)\n",
    "        boundingBoxes = [cv2.boundingRect(c) for c in contours]\n",
    "        (contours, boundingBoxes) = zip(*sorted(zip(contours, boundingBoxes), key=lambda b: b[1][0], reverse=False))\n",
    "        listing=[]\n",
    "        for cnt in contours:\n",
    "            area = cv2.contourArea(cnt)\n",
    "            print(area)\n",
    "            listing.append(area)\n",
    "            ref=np.min(listing)\n",
    "        print('mean of area=',ref)\n",
    "        for cnt in contours:\n",
    "            area = cv2.contourArea(cnt)\n",
    "\n",
    "\n",
    "            if area >=ref:\n",
    "                x,y,w,h = cv2.boundingRect(cnt)\n",
    "                #print (x,y,w,h)\n",
    "                letterBgr = txtLine[0:txtLine.shape[1],x:x+w]\n",
    "                wordImgList.append(letterBgr)\n",
    "\n",
    "                cv2.imwrite(\"./result/words/\" + str(counter) +\".jpg\",letterBgr)\n",
    "                counter=counter+1\n",
    "        cl=cl+1\n",
    "    words=[]\n",
    "    for word in wordImgList:\n",
    "        number_of_black_pix = np.sum(word == 0)\n",
    "        if number_of_black_pix>8000 and word.shape[0]>80:\n",
    "            words.append(word)\n",
    "        \n",
    "    \n",
    "    print ('No. of Words',len(words))  \n",
    "    return wordImgList\n"
   ]
  },
  {
   "cell_type": "code",
   "execution_count": 306,
   "metadata": {},
   "outputs": [],
   "source": [
    "def check_extraction(im):\n",
    "    zone=[]\n",
    "    mtc=im[30:64,525:] # montant en chiffre\n",
    "\n",
    "\n",
    "    mtl1=im[60:99,122:] # montant en lettre écrit sur la première ligne\n",
    "\n",
    "\n",
    "    mtl2=im[100:125,0:] #  montant en lettre écrit sur la deuxième ligne si la première est totalement remplie\n",
    "\n",
    "\n",
    "    lieu=im[140:165,320:450] # lieu de la transaction \n",
    "\n",
    "\n",
    "    nom=im[122:145,80:] # nom du bénéficiaire\n",
    "\n",
    "\n",
    "    sign=im[175:240,460:650] # Signature du client\n",
    "\n",
    "\n",
    "    date=im[145:175,490:] # Date de la transaction\n",
    "    \n",
    "    zone=[mtc,mtl1,mtl2,date,nom,sign,lieu]\n",
    "    return zone"
   ]
  },
  {
   "cell_type": "code",
   "execution_count": 307,
   "metadata": {},
   "outputs": [],
   "source": [
    "#from s_extract import check_extraction,delete_line"
   ]
  },
  {
   "cell_type": "code",
   "execution_count": 308,
   "metadata": {},
   "outputs": [
    {
     "data": {
      "text/plain": [
       "<matplotlib.image.AxesImage at 0x2257a1a6670>"
      ]
     },
     "execution_count": 308,
     "metadata": {},
     "output_type": "execute_result"
    },
    {
     "data": {
      "image/png": "[encoded data removed]",
      "text/plain": [
       "<Figure size 432x288 with 1 Axes>"
      ]
     },
     "metadata": {
      "needs_background": "light"
     },
     "output_type": "display_data"
    }
   ],
   "source": [
    "img=cv2.imread(r\"C:/Users/Obertys/Desktop/OCR_cheques/cheques/cheque9.jpg\")\n",
    "im=check_extraction(img)[1]\n",
    "cv2.imwrite('mont.png',im)\n",
    "plt.imshow(im,\"gray\")"
   ]
  },
  {
   "cell_type": "code",
   "execution_count": 309,
   "metadata": {},
   "outputs": [
    {
     "data": {
      "image/png": "[encoded data removed]",
      "text/plain": [
       "<Figure size 432x288 with 1 Axes>"
      ]
     },
     "metadata": {
      "needs_background": "light"
     },
     "output_type": "display_data"
    }
   ],
   "source": [
    "path=\"mont.png\"\n",
    "img=preprocess(path)\n"
   ]
  },
  {
   "cell_type": "code",
   "execution_count": 310,
   "metadata": {},
   "outputs": [
    {
     "name": "stdout",
     "output_type": "stream",
     "text": [
      "No. of Lines 1\n",
      "42893.0\n",
      "1228.0\n",
      "72365.5\n",
      "43483.0\n",
      "67999.5\n",
      "98753.5\n",
      "2335.5\n",
      "99556.5\n",
      "13893.0\n",
      "mean of area= 1228.0\n",
      "No. of Words 5\n"
     ]
    }
   ],
   "source": [
    "textLines=lineSegment(img)\n",
    "\n",
    "imgList=wordSegment(textLines)"
   ]
  },
  {
   "cell_type": "code",
   "execution_count": null,
   "metadata": {},
   "outputs": [],
   "source": []
  },
  {
   "cell_type": "code",
   "execution_count": 311,
   "metadata": {},
   "outputs": [
    {
     "data": {
      "image/png": "[encoded data removed]",
      "text/plain": [
       "<Figure size 432x288 with 9 Axes>"
      ]
     },
     "metadata": {
      "needs_background": "light"
     },
     "output_type": "display_data"
    }
   ],
   "source": [
    "imgPix(imgList)"
   ]
  },
  {
   "cell_type": "code",
   "execution_count": 289,
   "metadata": {},
   "outputs": [
    {
     "data": {
      "text/plain": [
       "True"
      ]
     },
     "execution_count": 289,
     "metadata": {},
     "output_type": "execute_result"
    }
   ],
   "source": [
    "cv2.imwrite(\"im.png\",img)"
   ]
  },
  {
   "cell_type": "markdown",
   "metadata": {},
   "source": [
    "## Transformer les pixels parasites en pixels blancs pour avoir une bonne segmentation de mots"
   ]
  },
  {
   "cell_type": "code",
   "execution_count": 290,
   "metadata": {},
   "outputs": [],
   "source": [
    "import numpy as np\n",
    "import cv2\n",
    "from skimage import util\n",
    "\n",
    "img = cv2.imread(r\"im.png\")\n",
    "imgray = cv2.cvtColor(img, cv2.COLOR_BGR2GRAY)\n",
    "ret, thresh = cv2.threshold(imgray, 127, 255, 0, cv2.THRESH_BINARY)\n",
    "contours, hierarchy = cv2.findContours(thresh, cv2.RETR_CCOMP, cv2.CHAIN_APPROX_SIMPLE) # Use cv2.CCOMP for two level hierarchy\n",
    "# create an empty mask\n",
    "mask = np.zeros(img.shape[:2], dtype=np.uint8)\n",
    "for i, cnt in enumerate(contours):\n",
    "    if hierarchy[0][i][3] != -1: # basically look for holes\n",
    "        # if the size of the contour is less than a threshold (noise)\n",
    "        if cv2.contourArea(cnt) < 25:\n",
    "            # Fill the holes in the original image\n",
    "            cv2.drawContours(img, [cnt], 0,(255,255,255), -1)\n",
    "\n",
    "cv2.imshow(\"Mask\", mask)\n",
    "cv2.imshow(\"Img\", img)\n",
    "image = cv2.bitwise_not(img, img, mask=mask)\n",
    "cv2.imshow(\"Mask\", mask)\n",
    "cv2.imshow(\"After\", image)\n",
    "cv2.imwrite('mont.png',image)\n",
    "cv2.waitKey()\n",
    "cv2.destroyAllWindows()"
   ]
  },
  {
   "cell_type": "code",
   "execution_count": null,
   "metadata": {},
   "outputs": [],
   "source": []
  },
  {
   "cell_type": "code",
   "execution_count": 35,
   "metadata": {},
   "outputs": [],
   "source": [
    "def imgPix(imgList):\n",
    "    for i,img in enumerate(imgList):\n",
    "        ax = plt.subplot(1, len(imgList), i+1)\n",
    "        plt.imshow(img, cmap='binary')\n",
    "        plt.title((np.sum(img==0),img.shape[0]),fontdict={'fontsize': 10, 'color': 'black'})\n",
    "        plt.axis('off')\n",
    "    plt.tight_layout()\n",
    "    plt.show()\n",
    "   "
   ]
  },
  {
   "cell_type": "code",
   "execution_count": null,
   "metadata": {},
   "outputs": [],
   "source": []
  }
 ],
 "metadata": {
  "kernelspec": {
   "display_name": "Python 3",
   "language": "python",
   "name": "python3"
  },
  "language_info": {
   "codemirror_mode": {
    "name": "ipython",
    "version": 3
   },
   "file_extension": ".py",
   "mimetype": "text/x-python",
   "name": "python",
   "nbconvert_exporter": "python",
   "pygments_lexer": "ipython3",
   "version": "3.8.5"
  }
 },
 "nbformat": 4,
 "nbformat_minor": 4
}
