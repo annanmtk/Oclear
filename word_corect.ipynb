{
 "cells": [
  {
   "cell_type": "code",
   "execution_count": 2,
   "metadata": {},
   "outputs": [],
   "source": [
    "import numpy as np\n",
    "import Levenshtein as lev\n",
    "def levCalclulate(str1, str2):\n",
    "    Distance = lev.distance(str1, str2)\n",
    "    Ratio = lev.ratio(str1, str2)\n",
    "    #print(\"Levenshtein entre {0} et {1}\".format(str1, str2))\n",
    "    #print(\"> Distance: {0}\\n> Ratio: {1}\\n\".format(Distance, Ratio))\n",
    "    return Distance"
   ]
  },
  {
   "cell_type": "code",
   "execution_count": 3,
   "metadata": {},
   "outputs": [],
   "source": [
    "def answers(word):\n",
    "    Price_list=[\"UN\",\"DEUX\",\"TROIS\",\"QUATRE\",\"CINQ\",\"SIX\",\"SEPT\",\"HUIT\",\"NEUF\",\"DIX\",\"ONZE\",\"DOUZE\",\"TREIZE\",\"QUATORZE\",\"QUINZE\",\n",
    "          \"SEIZE\",\"VINGT\",\"TRENTE\",\"QUARANTE\",\"CINQUANTE\",\"SOIXANTE\",\"CENT\",\"MILLE\",\"MILLES\",\"MILLION\",\"MILLIONS\",\"MILLIARD\",\"MILLIARDS\",'DE','FRANC','FRANCS']\n",
    "    dic={}\n",
    "    for k,ch in enumerate(Price_list):\n",
    "        dic[k]=ch\n",
    "    l=[]\n",
    "    for ch in Price_list:\n",
    "        l.append(levCalclulate(word,ch))\n",
    "    return dic[np.argmin(l)]"
   ]
  },
  {
   "cell_type": "code",
   "execution_count": 10,
   "metadata": {},
   "outputs": [
    {
     "data": {
      "text/plain": [
       "'UN'"
      ]
     },
     "execution_count": 10,
     "metadata": {},
     "output_type": "execute_result"
    }
   ],
   "source": [
    "answers('NNT')"
   ]
  },
  {
   "cell_type": "code",
   "execution_count": null,
   "metadata": {},
   "outputs": [],
   "source": []
  },
  {
   "cell_type": "code",
   "execution_count": null,
   "metadata": {},
   "outputs": [],
   "source": []
  }
 ],
 "metadata": {
  "kernelspec": {
   "display_name": "Python 3",
   "language": "python",
   "name": "python3"
  },
  "language_info": {
   "codemirror_mode": {
    "name": "ipython",
    "version": 3
   },
   "file_extension": ".py",
   "mimetype": "text/x-python",
   "name": "python",
   "nbconvert_exporter": "python",
   "pygments_lexer": "ipython3",
   "version": "3.8.5"
  }
 },
 "nbformat": 4,
 "nbformat_minor": 4
}
