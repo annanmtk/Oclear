{
 "cells": [
  {
   "cell_type": "code",
   "execution_count": 5,
   "metadata": {},
   "outputs": [],
   "source": [
    "import sys\n",
    "import numpy as np\n",
    "import pandas as pd\n",
    "import matplotlib.pyplot as plt\n",
    "import matplotlib.patches as mpatches\n",
    "import cv2\n",
    "import os\n",
    "import imutils\n",
    "from PIL import Image\n",
    "import pytesseract\n",
    "import scipy.signal\n",
    "import math as m\n",
    "%matplotlib inline\n",
    "plt.rcParams['figure.figsize'] = (10.0, 10.0)\n",
    "from num_separate import preprocess,lineSegment,wordSegment\n",
    "from s_extract import check_extraction,delete_line\n",
    "def implt(img, cmp=None, t=''):\n",
    "    plt.imshow(img, cmap=cmp)\n",
    "    plt.title(t)\n",
    "    plt.show()"
   ]
  },
  {
   "cell_type": "code",
   "execution_count": 354,
   "metadata": {},
   "outputs": [
    {
     "data": {
      "text/plain": [
       "True"
      ]
     },
     "execution_count": 354,
     "metadata": {},
     "output_type": "execute_result"
    },
    {
     "data": {
      "image/png": "[encoded data removed]",
      "text/plain": [
       "<Figure size 720x720 with 1 Axes>"
      ]
     },
     "metadata": {
      "needs_background": "light"
     },
     "output_type": "display_data"
    }
   ],
   "source": [
    "img=cv2.imread(r\"C:/Users/Obertys/Desktop/OCR_cheques/cheques/cheque18.jpg\")\n",
    "im=check_extraction(img)[0]\n",
    "#im=delete_line(im) #zone 0:mtc, 1:mtl1, 2:mtl2, 3:date, 4:nom, 5:sign, 6:lieu\n",
    "plt.imshow(im)\n",
    "cv2.imwrite('mont.png',im)"
   ]
  },
  {
   "cell_type": "code",
   "execution_count": 355,
   "metadata": {},
   "outputs": [],
   "source": [
    "def bilateral_norm(img):\n",
    "    img = cv2.bilateralFilter(img, 9, 15, 30)\n",
    "    return cv2.normalize(img, None, 0, 255, cv2.NORM_MINMAX)\n",
    "def histogram_norm(img):\n",
    "    img = bilateral_norm(img)\n",
    "    add_img = 255 - cv2.threshold(img, 0, 255, cv2.THRESH_BINARY + cv2.THRESH_OTSU)[1] # Filtrage en image dont les pixels de premier plan sont blancs\n",
    "    img = 255 - img #filtrage en noir \n",
    "    img = (img - np.min(img)) / (np.max(img) - np.min(img)) * 255  # normalisation      \n",
    "    hist, bins = np.histogram(img.ravel(), 256, [0,256]) # img.ravel pour transformer l'image en un vecteur\n",
    "                                                         #  \n",
    "    img = img.astype(np.uint8) # \n",
    "\n",
    "    ret,thresh4 = cv2.threshold(img,np.argmax(hist)+10,255,cv2.THRESH_TOZERO)\n",
    "    return add_img\n",
    "    return cv2.add(add_img, thresh4, dtype=cv2.CV_8UC1)\n",
    "def cropp(img):\n",
    "    h,w = img.shape\n",
    "    top=0\n",
    "    down=0\n",
    "    left=0\n",
    "    right=0\n",
    "    \n",
    "    halt = False\n",
    "    for i in range(h):\n",
    "        if halt:\n",
    "            break\n",
    "        for j in range(w):\n",
    "            if img[i,j] == 0:\n",
    "                halt = True\n",
    "                top = i-1\n",
    "                break\n",
    "                \n",
    "    halt = False\n",
    "    for i in reversed(range(h)):\n",
    "        if halt:\n",
    "            break\n",
    "        for j in range(w):\n",
    "            if img[i,j] == 0:\n",
    "                halt = True\n",
    "                down = i+1\n",
    "                break\n",
    "    \n",
    "    halt = False\n",
    "    for i in range(w):\n",
    "        if halt:\n",
    "            break\n",
    "        for j in range(h):\n",
    "            if img[j,i] == 0:\n",
    "                halt = True\n",
    "                left = i-1\n",
    "                break\n",
    "                \n",
    "    halt = False\n",
    "    for i in reversed(range(w)):\n",
    "        if halt:\n",
    "            break\n",
    "        for j in range(h):\n",
    "            if img[j,i] == 0:\n",
    "                halt = True\n",
    "                right = i+1\n",
    "                break\n",
    "                \n",
    "    if (top < 0): top = 0\n",
    "    if (down < 0): down = 0\n",
    "    if (left < 0): left = 0\n",
    "    if (right < 0): right = 0\n",
    "        \n",
    "    #print('Top: ', top)\n",
    "    #print('Down: ', down)\n",
    "    #print('Left: ', left)\n",
    "    #print('Right: ', right)\n",
    "    \n",
    "    return img[top:down, left:right]\n",
    "def segment(img, height, width, indexes):\n",
    "    rois = []\n",
    "    indexes = np.insert(indexes, 0, 0)\n",
    "    indexes = np.insert(indexes, len(indexes), width-1)\n",
    "    print(\"svee: \", indexes)\n",
    "    for i in range(len(indexes)-1):\n",
    "        width = indexes[i+1] - indexes[i]\n",
    "        if width >45: # paramètre de réglage\n",
    "            continue\n",
    "        print('W:', width)\n",
    "        print('H:', height)\n",
    "        print('B:', indexes[i])\n",
    "        print('\\n')\n",
    "        roi = img[0:height, indexes[i]:indexes[i]+width]\n",
    "        rois.append(roi)\n",
    "    return rois\n",
    "        \n",
    "    \n",
    "def segment2(img, height, width, indexes,seuil):\n",
    "    rois = []\n",
    "    W=[]\n",
    "    if len(indexes)==1:\n",
    "        rois.append(img[0:height, 0:indexes[0]])\n",
    "        rois.append(img[0:height, indexes[0]:width])\n",
    "    else:   \n",
    "        indexes = np.insert(indexes, 0, 0)\n",
    "        indexes = np.insert(indexes, len(indexes), width-1)\n",
    "        #print(\"svee: \", indexes)\n",
    "        first = 0\n",
    "        second = 1\n",
    "        while (first < len(indexes)) and (second < len(indexes)):\n",
    "            width = indexes[second] - indexes[first]\n",
    "            #print(\"SS: \", width)\n",
    "            if width <=seuil and second!=len(indexes)-1 : # paramètre de réglage\n",
    "                second += 1\n",
    "                continue\n",
    "            W.append(width)\n",
    "            print('W:', width)\n",
    "            \n",
    "            #print('H:', height)\n",
    "            #print('B:', indexes[first])\n",
    "            #print('\\n')\n",
    "            roi = img[0:height, indexes[first]:indexes[first]+width]\n",
    "            rois.append(roi)\n",
    "            first = second\n",
    "            second += 1\n",
    "        print('Min Width:',min(W))\n",
    "    return rois"
   ]
  },
  {
   "cell_type": "code",
   "execution_count": 356,
   "metadata": {},
   "outputs": [],
   "source": [
    "def preprocessing(img):\n",
    "    img_copy=img.copy()\n",
    "    img = cv2.cvtColor(img_copy, cv2.COLOR_RGB2GRAY)\n",
    "    thresh = 255-histogram_norm(img) \n",
    "    thresh = cropp(thresh)\n",
    "    return thresh"
   ]
  },
  {
   "cell_type": "code",
   "execution_count": 357,
   "metadata": {},
   "outputs": [
    {
     "data": {
      "text/plain": [
       "<matplotlib.image.AxesImage at 0x1ec2d8a9af0>"
      ]
     },
     "execution_count": 357,
     "metadata": {},
     "output_type": "execute_result"
    },
    {
     "data": {
      "image/png": "[encoded data removed]",
      "text/plain": [
       "<Figure size 720x720 with 1 Axes>"
      ]
     },
     "metadata": {
      "needs_background": "light"
     },
     "output_type": "display_data"
    }
   ],
   "source": [
    "thresh=preprocessing(im)\n",
    "rotated = imutils.rotate(thresh, 180)\n",
    "plt.imshow(rotated,\"gray\")"
   ]
  },
  {
   "cell_type": "code",
   "execution_count": 358,
   "metadata": {},
   "outputs": [],
   "source": [
    "h=thresh.shape[0]\n",
    "img=rotated[10:,:]\n",
    "#img=thresh[7:int(h/1.7),:]"
   ]
  },
  {
   "cell_type": "code",
   "execution_count": 359,
   "metadata": {},
   "outputs": [
    {
     "data": {
      "image/png": "[encoded data removed]",
      "text/plain": [
       "<Figure size 720x720 with 1 Axes>"
      ]
     },
     "metadata": {
      "needs_background": "light"
     },
     "output_type": "display_data"
    }
   ],
   "source": [
    "implt(img,'gray', 'Binary OTSU + (Filter + TO_ZERO)')"
   ]
  },
  {
   "cell_type": "code",
   "execution_count": 360,
   "metadata": {},
   "outputs": [],
   "source": [
    "def vertical_projection(thresh):\n",
    "    (h, w) = thresh.shape[:2] # h est le nombre de pixels totale par colonne et w le nombre de pixels totale par ligne\n",
    "    sumCols = []\n",
    "    for j in range(w):  \n",
    "        col = thresh[0:h, j:j+1] # y1:y2, x1:x2\n",
    "        sumCols.append(h-(np.sum(col)/255))\n",
    "    hist=sumCols\n",
    "    hist=(hist - np.amin(hist))/(np.amax(hist) - np.amin(hist))\n",
    "    return hist # retourne le nombre de pixels blancs de chaque colonne de l'image binarisée\n",
    "\n",
    "\n",
    "def fix_hist(hist,seuil):\n",
    "    hist_=[]\n",
    "    for i in range(len(hist)):\n",
    "        if hist[i]<=seuil:\n",
    "            hist_.append(0)\n",
    "        else:\n",
    "            b=hist[i]\n",
    "            hist_.append(b)\n",
    "    return hist_\n",
    "\n",
    "def find_indexe(s):\n",
    "    index=[]\n",
    "    i=0\n",
    "    while i<=len(s)-1:\n",
    "        cnt_0=0\n",
    "        j=0\n",
    "        #if i==0 and s[i]==0:\n",
    "            #index.append(cnt_0)\n",
    "            #i+=1\n",
    "            \n",
    "        if s[i]!=0 and i<=len(s)-1:\n",
    "            i+=1\n",
    "        else:\n",
    "            j=i-1\n",
    "            while s[i]==0 and i<=len(s)-1:\n",
    "                if i==len(s)-1:\n",
    "                    cnt_0+=1\n",
    "                    i+=1\n",
    "                    break\n",
    "                else:\n",
    "                    cnt_0+=1\n",
    "                    i+=1\n",
    "            index.append(m.ceil(cnt_0/2)+j)\n",
    "                \n",
    "                \n",
    "    return index\n",
    "        \n",
    "\n",
    "def plot_histogram(thresh,hist,indexes):\n",
    "    h, w = thresh.shape\n",
    "    RGBmask = np.zeros((thresh.shape[0], thresh.shape[1], 3), np.uint8)+255 # création de fond blanc\n",
    "    count=0\n",
    "    for l in hist:\n",
    "        cv2.line(RGBmask, (count, int(h*(l))), (count, h), color=[0,255,0], thickness=1)\n",
    "        count += 1\n",
    "\n",
    "    for i in indexes:\n",
    "        cv2.circle(RGBmask, (i, int(h*hist[i])), radius=2, color=[255,0,0], thickness=-1) \n",
    "        #cv2.line(RGBmask, (i, 0), (i, h), color=[255,0,0],#thickness=1)\n",
    "    implt(thresh,'gray', 'Binary OTSU + (Filter + TO_ZERO)')\n",
    "    implt(RGBmask, cmp='gray', t='Final')\n"
   ]
  },
  {
   "cell_type": "code",
   "execution_count": 361,
   "metadata": {},
   "outputs": [],
   "source": [
    "\n",
    "import statistics as st\n",
    "def binary_graph(thresh):\n",
    "    # Binary graph\n",
    "    (h, w) = thresh.shape[:2] # h est le nombre de pixels totale par colonne et w le nombre de pixels totale par ligne\n",
    "    sumCols = []\n",
    "    for j in range(w):  \n",
    "        col = thresh[0:h, j:j+1] # y1:y2, x1:x2\n",
    "        sumCols.append(h-(np.sum(col)/255))\n",
    "    hist=np.zeros(len(sumCols))\n",
    "    #mpx=np.min(sumCols)\n",
    "    mpx=0\n",
    "    print(mpx)\n",
    "    for pix in range(len(sumCols)):\n",
    "        if sumCols[pix]>mpx:\n",
    "            hist[pix]=1\n",
    "        else:\n",
    "            continue\n",
    "    return hist\n",
    "def binary_index(hist):\n",
    "    # Find index\n",
    "    import math as m\n",
    "    indexes=find_indexe(hist)\n",
    "    #print('index',ind)\n",
    "    return indexes\n",
    "\n",
    "def count_pixel(thresh):\n",
    "    (h, w) = thresh.shape[:2] # h est le nombre de pixels totale par colonne et w le nombre de pixels totale par ligne\n",
    "    sumCols = []\n",
    "    for j in range(w):  \n",
    "        col = thresh[0:h, j:j+1] # y1:y2, x1:x2\n",
    "        sumCols.append(h-(np.sum(col)/255))\n",
    "    return sumCols # retourne le nombre de pixels blancs de chaque colonne de l'image binarisée\n",
    "\n",
    "def plot_hist(thresh,hist):\n",
    "    plt.plot(np.arange(thresh.shape[1]),vertical_projection(thresh))\n",
    "    plt.plot(np.arange(thresh.shape[1]),hist)\n",
    "    return 0\n",
    "def peack_width(indexes):\n",
    "    W=[]\n",
    "    for i in range(len(indexes)-1):\n",
    "        W.append(indexes[i+1]-indexes[i])\n",
    "    return W   \n",
    "def segment1(img, indexes):\n",
    "    #pw=int(np.mean(peack_width(indexes)))\n",
    "    width=img.shape[1]\n",
    "    height=img.shape[0]\n",
    "    rois = []\n",
    "    indexes = np.insert(indexes, 0, 0)\n",
    "    indexes = np.insert(indexes, len(indexes), width-1)\n",
    "    print(\"svee: \", indexes)\n",
    "    first = 0\n",
    "    second = 1\n",
    "    while (first < len(indexes)) and (second < len(indexes)):\n",
    "        width = indexes[second] - indexes[first]\n",
    "        if width <9: # paramètre de réglage\n",
    "            second += 1\n",
    "            continue\n",
    "        roi = img[0:height, indexes[first]:indexes[first]+width]\n",
    "        rois.append(roi)\n",
    "        first = second\n",
    "        second += 1\n",
    "    plt.figure(figsize=(16, 16))\n",
    "    for i in range(len(rois)):\n",
    "        if rois[i].shape[1]:\n",
    "            rois[i]=cv2.resize(rois[i],(28,28))\n",
    "            ax = plt.subplot(1, len(rois), i+1)\n",
    "            plt.imshow(rois[i], cmap='binary')\n",
    "            plt.title(i, fontdict={'fontsize': 15, 'color': 'black'})\n",
    "            plt.axis('off')\n",
    "    plt.tight_layout()\n",
    "    plt.show()\n",
    "    return rois "
   ]
  },
  {
   "cell_type": "code",
   "execution_count": 362,
   "metadata": {},
   "outputs": [
    {
     "name": "stdout",
     "output_type": "stream",
     "text": [
      "0\n"
     ]
    },
    {
     "data": {
      "image/png": "[encoded data removed]",
      "text/plain": [
       "<Figure size 720x720 with 1 Axes>"
      ]
     },
     "metadata": {
      "needs_background": "light"
     },
     "output_type": "display_data"
    },
    {
     "data": {
      "image/png": "[encoded data removed]",
      "text/plain": [
       "<Figure size 720x720 with 1 Axes>"
      ]
     },
     "metadata": {
      "needs_background": "light"
     },
     "output_type": "display_data"
    }
   ],
   "source": [
    "b=binary_graph(img)\n",
    "\n",
    "\n",
    "f=binary_index(b)\n",
    "\n",
    "\n",
    "plot_histogram(img,b,f)"
   ]
  },
  {
   "cell_type": "code",
   "execution_count": 363,
   "metadata": {},
   "outputs": [
    {
     "data": {
      "text/plain": [
       "[14, 41, 56, 71, 78, 90, 108, 126, 145]"
      ]
     },
     "execution_count": 363,
     "metadata": {},
     "output_type": "execute_result"
    }
   ],
   "source": [
    "f"
   ]
  },
  {
   "cell_type": "code",
   "execution_count": 364,
   "metadata": {},
   "outputs": [
    {
     "name": "stdout",
     "output_type": "stream",
     "text": [
      "svee:  [  0  14  41  56  71  78  90 108 126 145 146]\n"
     ]
    },
    {
     "data": {
      "image/png": "[encoded data removed]",
      "text/plain": [
       "<Figure size 1152x1152 with 8 Axes>"
      ]
     },
     "metadata": {
      "needs_background": "light"
     },
     "output_type": "display_data"
    }
   ],
   "source": [
    "s=segment1(rotated,f)"
   ]
  },
  {
   "cell_type": "code",
   "execution_count": 349,
   "metadata": {},
   "outputs": [
    {
     "data": {
      "text/plain": [
       "True"
      ]
     },
     "execution_count": 349,
     "metadata": {},
     "output_type": "execute_result"
    }
   ],
   "source": [
    "cv2.imwrite(r\"C:\\Users\\Obertys\\Desktop\\DATA HANDWRITTEN\\chif.png\",imutils.rotate(255-s[3],180))"
   ]
  },
  {
   "cell_type": "code",
   "execution_count": 350,
   "metadata": {},
   "outputs": [],
   "source": [
    "img=cv2.imread(r\"C:\\Users\\Obertys\\Desktop\\DATA HANDWRITTEN\\chif.png\")"
   ]
  },
  {
   "cell_type": "code",
   "execution_count": 351,
   "metadata": {},
   "outputs": [
    {
     "data": {
      "image/png": "[encoded data removed]",
      "text/plain": [
       "<Figure size 720x720 with 1 Axes>"
      ]
     },
     "metadata": {
      "needs_background": "light"
     },
     "output_type": "display_data"
    }
   ],
   "source": [
    "implt(img)"
   ]
  },
  {
   "cell_type": "code",
   "execution_count": null,
   "metadata": {},
   "outputs": [],
   "source": []
  },
  {
   "cell_type": "code",
   "execution_count": null,
   "metadata": {},
   "outputs": [],
   "source": []
  },
  {
   "cell_type": "code",
   "execution_count": null,
   "metadata": {},
   "outputs": [],
   "source": []
  }
 ],
 "metadata": {
  "kernelspec": {
   "display_name": "Python 3",
   "language": "python",
   "name": "python3"
  },
  "language_info": {
   "codemirror_mode": {
    "name": "ipython",
    "version": 3
   },
   "file_extension": ".py",
   "mimetype": "text/x-python",
   "name": "python",
   "nbconvert_exporter": "python",
   "pygments_lexer": "ipython3",
   "version": "3.8.5"
  }
 },
 "nbformat": 4,
 "nbformat_minor": 4
}
