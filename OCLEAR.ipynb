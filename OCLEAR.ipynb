{
 "cells": [
  {
   "cell_type": "code",
   "execution_count": 55,
   "metadata": {},
   "outputs": [
    {
     "name": "stdout",
     "output_type": "stream",
     "text": [
      "Loaded model from disk\n"
     ]
    }
   ],
   "source": [
    "import sys\n",
    "import numpy as np\n",
    "import pandas as pd\n",
    "import matplotlib.pyplot as plt\n",
    "import matplotlib.patches as mpatches\n",
    "import cv2\n",
    "import os\n",
    "from tensorflow.keras.models import model_from_json\n",
    "import scipy.signal\n",
    "import math as m\n",
    "%matplotlib inline\n",
    "plt.rcParams['figure.figsize'] = (10.0, 10.0)\n",
    "from wordSeg import preprocess,lineSegment,wordSegment,unshear\n",
    "from s_extract import check_extraction,delete_line\n",
    "from word_corect import answers\n",
    "def implt(img, cmp=None, t=''):\n",
    "    plt.imshow(img, cmap=cmp)\n",
    "    plt.title(t)\n",
    "    plt.show()\n",
    "# load json and create model\n",
    "json_file = open('model.json', 'r')\n",
    "loaded_model_json = json_file.read()\n",
    "json_file.close()\n",
    "loaded_model = model_from_json(loaded_model_json)\n",
    "# load weights into new model\n",
    "loaded_model.load_weights(\"model.h5\")\n",
    "print(\"Loaded model from disk\")\n",
    "\n",
    "\n",
    "alph=\"ACDEFGHILMNOQRSTUVXZ\"\n",
    "dic={}\n",
    "for i,ch in enumerate(alph):\n",
    "    dic[i]=ch    \n",
    "\n",
    "def bilateral_norm(img):\n",
    "    img = cv2.bilateralFilter(img, 9, 15, 30)\n",
    "    return cv2.normalize(img, None, 0, 255, cv2.NORM_MINMAX)\n",
    "def histogram_norm(img):\n",
    "    img = bilateral_norm(img)\n",
    "    add_img = 255 - cv2.threshold(img, 0, 255, cv2.THRESH_BINARY + cv2.THRESH_OTSU)[1] # Filtrage en image dont les pixels de premier plan sont blancs\n",
    "    img = 255 - img #filtrage en noir \n",
    "    img = (img - np.min(img)) / (np.max(img) - np.min(img)) * 255  # normalisation      \n",
    "    hist, bins = np.histogram(img.ravel(), 256, [0,256]) # img.ravel pour transformer l'image en un vecteur\n",
    "                                                         #  \n",
    "    img = img.astype(np.uint8) # \n",
    "\n",
    "    ret,thresh4 = cv2.threshold(img,np.argmax(hist)+10,255,cv2.THRESH_TOZERO)\n",
    "    return add_img\n",
    "    return cv2.add(add_img, thresh4, dtype=cv2.CV_8UC1)\n",
    "def cropp(img):\n",
    "    h,w = img.shape\n",
    "    top=0\n",
    "    down=0\n",
    "    left=0\n",
    "    right=0\n",
    "    \n",
    "    halt = False\n",
    "    for i in range(h):\n",
    "        if halt:\n",
    "            break\n",
    "        for j in range(w):\n",
    "            if img[i,j] == 0:\n",
    "                halt = True\n",
    "                top = i-1\n",
    "                break\n",
    "                \n",
    "    halt = False\n",
    "    for i in reversed(range(h)):\n",
    "        if halt:\n",
    "            break\n",
    "        for j in range(w):\n",
    "            if img[i,j] == 0:\n",
    "                halt = True\n",
    "                down = i+1\n",
    "                break\n",
    "    \n",
    "    halt = False\n",
    "    for i in range(w):\n",
    "        if halt:\n",
    "            break\n",
    "        for j in range(h):\n",
    "            if img[j,i] == 0:\n",
    "                halt = True\n",
    "                left = i-1\n",
    "                break\n",
    "                \n",
    "    halt = False\n",
    "    for i in reversed(range(w)):\n",
    "        if halt:\n",
    "            break\n",
    "        for j in range(h):\n",
    "            if img[j,i] == 0:\n",
    "                halt = True\n",
    "                right = i+1\n",
    "                break\n",
    "                \n",
    "    if (top < 0): top = 0\n",
    "    if (down < 0): down = 0\n",
    "    if (left < 0): left = 0\n",
    "    if (right < 0): right = 0\n",
    "        \n",
    "    #print('Top: ', top)\n",
    "    #print('Down: ', down)\n",
    "    #print('Left: ', left)\n",
    "    #print('Right: ', right)\n",
    "    \n",
    "    return img[top:down, left:right]\n",
    "def segment1(img, indexes):\n",
    "    width=img.shape[1]\n",
    "    height=img.shape[0]\n",
    "    rois = []\n",
    "    indexes = np.insert(indexes, 0, 0)\n",
    "    indexes = np.insert(indexes, len(indexes), width-1)\n",
    "    print(\"svee: \", indexes)\n",
    "    first = 0\n",
    "    second = 1\n",
    "    while (first < len(indexes)) and (second < len(indexes)):\n",
    "        width = indexes[second] - indexes[first]\n",
    "        if width <42: # paramètre de réglage\n",
    "            second += 1\n",
    "            continue\n",
    "        roi = img[0:height, indexes[first]:indexes[first]+width]\n",
    "        roi=cv2.resize(roi,(28,28))\n",
    "        rois.append(roi)\n",
    "        first = second\n",
    "        second += 1\n",
    "    plt.figure(figsize=(16, 16))\n",
    "    for i in range(len(rois)):\n",
    "        ax = plt.subplot(1, len(rois), i+1)\n",
    "        plt.imshow(rois[i], cmap='binary')\n",
    "        plt.title(i, fontdict={'fontsize': 15, 'color': 'black'})\n",
    "        plt.axis('off')\n",
    "    plt.tight_layout()\n",
    "    plt.show()\n",
    "    return rois\n",
    "        \n",
    "\n",
    "\n",
    "def preprocessing(img):\n",
    "    img = cv2.cvtColor(img, cv2.COLOR_RGB2GRAY)\n",
    "    thresh = 255-histogram_norm(img) \n",
    "    thresh = cropp(thresh)\n",
    "    return thresh\n",
    "\n",
    "def vertical_projection(thresh):\n",
    "    (h, w) = thresh.shape[:2] # h est le nombre de pixels totale par colonne et w le nombre de pixels totale par ligne\n",
    "    sumCols = []\n",
    "    for j in range(w):  \n",
    "        col = thresh[0:h, j:j+1] # y1:y2, x1:x2\n",
    "        sumCols.append(h-(np.sum(col)/255))\n",
    "    hist=sumCols\n",
    "    hist=(hist - np.amin(hist))/(np.amax(hist) - np.amin(hist))\n",
    "    return hist # retourne le nombre de pixels blancs de chaque colonne de l'image binarisée\n",
    "\n",
    "\n",
    "def fix_hist(hist,seuil):\n",
    "    hist_=[]\n",
    "    for i in range(len(hist)):\n",
    "        if hist[i]<=seuil:\n",
    "            hist_.append(0)\n",
    "        else:\n",
    "            b=hist[i]\n",
    "            hist_.append(b)\n",
    "    return hist_\n",
    "\n",
    "def find_indexe(s):\n",
    "    index=[]\n",
    "    i=0\n",
    "    while i<=len(s)-1:\n",
    "        cnt_0=0\n",
    "        j=0\n",
    "        #if i==0 and s[i]==0:\n",
    "            #index.append(cnt_0)\n",
    "            #i+=1\n",
    "            \n",
    "        if s[i]!=0 and i<=len(s)-1:\n",
    "            i+=1\n",
    "        else:\n",
    "            j=i-1\n",
    "            while s[i]==0 and i<=len(s)-1:\n",
    "                if i==len(s)-1:\n",
    "                    cnt_0+=1\n",
    "                    i+=1\n",
    "                    break\n",
    "                else:\n",
    "                    cnt_0+=1\n",
    "                    i+=1\n",
    "            index.append(m.ceil(cnt_0/2)+j)\n",
    "                \n",
    "                \n",
    "    return index\n",
    "        \n",
    "\n",
    "def plot_histogram(thresh,hist,indexes):\n",
    "    h, w = thresh.shape\n",
    "    RGBmask = np.zeros((thresh.shape[0], thresh.shape[1], 3), np.uint8)+255 # création de fond blanc\n",
    "    count=0\n",
    "    for l in hist:\n",
    "        cv2.line(RGBmask, (count, int(h*(l))), (count, h), color=[0,255,0], thickness=1)\n",
    "        count += 1\n",
    "\n",
    "    for i in indexes:\n",
    "        cv2.circle(RGBmask, (i, int(h*hist[i])), radius=2, color=[255,0,0], thickness=-1) \n",
    "        #cv2.line(RGBmask, (i, 0), (i, h), color=[255,0,0],#thickness=1)\n",
    "    implt(thresh,'gray', 'Binary OTSU + (Filter + TO_ZERO)')\n",
    "    implt(RGBmask, cmp='gray', t='Final')\n",
    "\n",
    "\n",
    "\n",
    "import statistics as st\n",
    "def binary_graph(thresh):\n",
    "    # Binary graph\n",
    "    (h, w) = thresh.shape[:2] # h est le nombre de pixels totale par colonne et w le nombre de pixels totale par ligne\n",
    "    sumCols = []\n",
    "    for j in range(w):  \n",
    "        col = thresh[0:h, j:j+1] # y1:y2, x1:x2\n",
    "        sumCols.append(h-(np.sum(col)/255))\n",
    "    hist=np.zeros(len(sumCols))\n",
    "    #mpx=np.maximum(np.min(np.nonzero(sumCols)),30)\n",
    "    mpx=np.mean(sumCols)\n",
    "    for pix in range(len(sumCols)):\n",
    "        if sumCols[pix]>mpx:\n",
    "            hist[pix]=1\n",
    "        else:\n",
    "            hist[pix]=0\n",
    "    return hist\n",
    "def binary_index(hist):\n",
    "    # Find index\n",
    "    import math as m\n",
    "    indexes=find_indexe(hist)\n",
    "    #print('index',ind)\n",
    "    return indexes\n",
    "\n",
    "def count_pixel(thresh):\n",
    "    (h, w) = thresh.shape[:2] # h est le nombre de pixels totale par colonne et w le nombre de pixels totale par ligne\n",
    "    sumCols = []\n",
    "    for j in range(w):  \n",
    "        col = thresh[0:h, j:j+1] # y1:y2, x1:x2\n",
    "        sumCols.append(h-(np.sum(col)/255))\n",
    "    return sumCols # retourne le nombre de pixels blancs de chaque colonne de l'image binarisée\n",
    "def peack_width(indexes):\n",
    "    W=[]\n",
    "    for i in range(len(indexes)-1):\n",
    "        W.append(indexes[i+1]-indexes[i])\n",
    "    return W   \n",
    "def segment1(img, indexes):\n",
    "    pw=int(np.mean(peack_width(indexes)))\n",
    "    width=img.shape[1]\n",
    "    height=img.shape[0]\n",
    "    rois = []\n",
    "    indexes = np.insert(indexes, 0, 0)\n",
    "    indexes = np.insert(indexes, len(indexes), width-1)\n",
    "    first = 0\n",
    "    second = 1\n",
    "    while (first < len(indexes)) and (second < len(indexes)):\n",
    "        width = indexes[second] - indexes[first]\n",
    "        if width <=pw: # paramètre de réglage\n",
    "            second += 1\n",
    "            continue\n",
    "        roi = img[0:height, indexes[first]:indexes[first]+width]\n",
    "        rois.append(roi)\n",
    "        first = second\n",
    "        second += 1\n",
    "    for i in range(len(rois)):\n",
    "        if rois[i].shape[1]>10:\n",
    "            rois[i]=cv2.resize(rois[i],(28,28))\n",
    "    return rois "
   ]
  },
  {
   "cell_type": "code",
   "execution_count": null,
   "metadata": {},
   "outputs": [],
   "source": []
  },
  {
   "cell_type": "code",
   "execution_count": 65,
   "metadata": {},
   "outputs": [
    {
     "data": {
      "image/png": "[encoded data removed]",
      "text/plain": [
       "<Figure size 720x720 with 1 Axes>"
      ]
     },
     "metadata": {
      "needs_background": "light"
     },
     "output_type": "display_data"
    }
   ],
   "source": [
    "img=cv2.imread(r\"C:/Users/Obertys/Desktop/OCR_cheques/cheques/cheque38.jpg\")\n",
    "im=check_extraction(img)[1]\n",
    "cv2.imwrite('mont.png',im)\n",
    "implt(im)"
   ]
  },
  {
   "cell_type": "code",
   "execution_count": 66,
   "metadata": {},
   "outputs": [
    {
     "data": {
      "image/png": "[encoded data removed]",
      "text/plain": [
       "<Figure size 720x720 with 1 Axes>"
      ]
     },
     "metadata": {
      "needs_background": "light"
     },
     "output_type": "display_data"
    }
   ],
   "source": [
    "path=\"mont.png\"\n",
    "img=preprocess(path)"
   ]
  },
  {
   "cell_type": "code",
   "execution_count": 67,
   "metadata": {},
   "outputs": [
    {
     "name": "stdout",
     "output_type": "stream",
     "text": [
      "No. of Lines 1\n",
      "No. of Words 7\n"
     ]
    }
   ],
   "source": [
    "textLines=lineSegment(img)\n",
    "\n",
    "words=wordSegment(textLines)\n"
   ]
  },
  {
   "cell_type": "code",
   "execution_count": 68,
   "metadata": {},
   "outputs": [],
   "source": [
    "def segmentChar(word):\n",
    "    thresh=preprocessing(word)\n",
    "    b=binary_graph(thresh)\n",
    "    f=binary_index(b)\n",
    "    s=segment1(thresh,f)\n",
    "    return s"
   ]
  },
  {
   "cell_type": "code",
   "execution_count": 69,
   "metadata": {},
   "outputs": [],
   "source": [
    "def recognition(chars):\n",
    "    words=[]\n",
    "    for char in chars:\n",
    "        if char.shape==(28,28):\n",
    "            char=255-char\n",
    "            img=char.reshape(1,28*28)\n",
    "            pred=loaded_model.predict_classes(img)\n",
    "            words.append(dic[int(pred)])\n",
    "    word=\"\".join(words)\n",
    "    return answers(word)"
   ]
  },
  {
   "cell_type": "code",
   "execution_count": 70,
   "metadata": {},
   "outputs": [],
   "source": [
    "def rMont(words):\n",
    "    for word in words:\n",
    "        chars=segmentChar(word)\n",
    "        w=recognition(chars)\n",
    "        if w!=None:\n",
    "            print(w,end=' ')"
   ]
  },
  {
   "cell_type": "code",
   "execution_count": 71,
   "metadata": {},
   "outputs": [
    {
     "name": "stdout",
     "output_type": "stream",
     "text": [
      "TROIS CENT QUATRE VINGT SEIZE MILLE FRANC "
     ]
    }
   ],
   "source": [
    "rMont(words)"
   ]
  },
  {
   "cell_type": "code",
   "execution_count": null,
   "metadata": {},
   "outputs": [],
   "source": []
  },
  {
   "cell_type": "code",
   "execution_count": null,
   "metadata": {},
   "outputs": [],
   "source": []
  },
  {
   "cell_type": "code",
   "execution_count": null,
   "metadata": {},
   "outputs": [],
   "source": []
  },
  {
   "cell_type": "code",
   "execution_count": null,
   "metadata": {},
   "outputs": [],
   "source": []
  },
  {
   "cell_type": "code",
   "execution_count": null,
   "metadata": {},
   "outputs": [],
   "source": []
  },
  {
   "cell_type": "code",
   "execution_count": null,
   "metadata": {},
   "outputs": [],
   "source": []
  },
  {
   "cell_type": "code",
   "execution_count": null,
   "metadata": {},
   "outputs": [],
   "source": []
  }
 ],
 "metadata": {
  "kernelspec": {
   "display_name": "Python 3",
   "language": "python",
   "name": "python3"
  },
  "language_info": {
   "codemirror_mode": {
    "name": "ipython",
    "version": 3
   },
   "file_extension": ".py",
   "mimetype": "text/x-python",
   "name": "python",
   "nbconvert_exporter": "python",
   "pygments_lexer": "ipython3",
   "version": "3.8.5"
  }
 },
 "nbformat": 4,
 "nbformat_minor": 4
}
