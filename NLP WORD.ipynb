{
 "cells": [
  {
   "cell_type": "markdown",
   "metadata": {},
   "source": [
    "Aller sur ce site pour voir des algorithmes de distance. Il y en a beaucoup et chacun a ses spécificités et surtout sa spécialité. vous en trouverez qui sont spécialisés dans les chaînes courtes, longues, avec des nombres ou pas, etc. https://pypi.org/project/textdistance/"
   ]
  },
  {
   "cell_type": "markdown",
   "metadata": {},
   "source": [
    "# Levenshtein\n",
    "\n",
    "L’algorithme de Levenshtein nous renvoit deux métriques : la distance et le ratio.\n",
    "\n",
    "Distance : C’est la mesure du nombre minimum de modifications (insertions, suppressions ou substitutions) qu’il faut effectuer pour changer une séquence d’un mot en l’autre.\n",
    "\n",
    "Ratio : Similarité entre deux mots"
   ]
  },
  {
   "cell_type": "markdown",
   "metadata": {},
   "source": [
    "source: https://www.datacorner.fr/str-comparison/"
   ]
  },
  {
   "cell_type": "code",
   "execution_count": 7,
   "metadata": {},
   "outputs": [],
   "source": [
    "import numpy as np"
   ]
  },
  {
   "cell_type": "code",
   "execution_count": 32,
   "metadata": {},
   "outputs": [],
   "source": [
    "import Levenshtein as lev\n",
    "def levCalclulate(str1, str2):\n",
    "    Distance = lev.distance(str1, str2)\n",
    "    Ratio = lev.ratio(str1, str2)\n",
    "    #print(\"Levenshtein entre {0} et {1}\".format(str1, str2))\n",
    "    #print(\"> Distance: {0}\\n> Ratio: {1}\\n\".format(Distance, Ratio))\n",
    "    return Distance\n"
   ]
  },
  {
   "cell_type": "code",
   "execution_count": 33,
   "metadata": {},
   "outputs": [
    {
     "data": {
      "text/plain": [
       "2"
      ]
     },
     "execution_count": 33,
     "metadata": {},
     "output_type": "execute_result"
    }
   ],
   "source": [
    "levCalclulate(\"SECTE\", \"SEPT\")\n",
    "levCalclulate(\"SECTE\", \"SEIZE\")\n"
   ]
  },
  {
   "cell_type": "code",
   "execution_count": null,
   "metadata": {},
   "outputs": [],
   "source": []
  },
  {
   "cell_type": "code",
   "execution_count": 40,
   "metadata": {},
   "outputs": [],
   "source": [
    "Price_list=[\"UN\",\"DEUX\",\"TROIS\",\"QUATRE\",\"CINQ\",\"SIX\",\"SEPT\",\"HUIT\",\"NEUF\",\"DIX\",\"ONZE\",\"DOUZE\",\"TREIZE\",\"QUATORZE\",\"QUINZE\",\n",
    "          \"SEIZE\",\"VINGT\",\"TRENTE\",\"QUARANTE\",\"CINQUANTE\",\"SOIXANTE\",\"CENT\",\"MILLE\",\"MILLES\",\"MILLION\",\"MILLIONS\",\"MILLIARD\",\"MILLIARDS\",'DE','FRANC','FRANCS','CFA']"
   ]
  },
  {
   "cell_type": "code",
   "execution_count": 41,
   "metadata": {},
   "outputs": [],
   "source": [
    "dic={}\n",
    "for k,ch in enumerate(Price_list):\n",
    "    dic[k]=ch\n",
    "    "
   ]
  },
  {
   "cell_type": "code",
   "execution_count": 44,
   "metadata": {},
   "outputs": [],
   "source": [
    "l=[]\n",
    "for ch in Price_list:\n",
    "    l.append(levCalclulate(\"NNT\",ch))"
   ]
  },
  {
   "cell_type": "code",
   "execution_count": 45,
   "metadata": {},
   "outputs": [
    {
     "data": {
      "text/plain": [
       "'UN'"
      ]
     },
     "execution_count": 45,
     "metadata": {},
     "output_type": "execute_result"
    }
   ],
   "source": [
    "dic[np.argmin(l)]"
   ]
  },
  {
   "cell_type": "code",
   "execution_count": 22,
   "metadata": {},
   "outputs": [],
   "source": [
    "from PIL import Image as i\n",
    "from PIL import ImageChops as ic\n",
    "import sys\n",
    "import math\n",
    "import cv2\n",
    "import matplotlib.pyplot as plt"
   ]
  },
  {
   "cell_type": "code",
   "execution_count": 23,
   "metadata": {},
   "outputs": [],
   "source": [
    "img=cv2.imread('mont.png')"
   ]
  },
  {
   "cell_type": "code",
   "execution_count": 24,
   "metadata": {},
   "outputs": [],
   "source": [
    " dst = cv2.fastNlMeansDenoisingColored(img,None,3,10,7,21)"
   ]
  },
  {
   "cell_type": "markdown",
   "metadata": {},
   "source": [
    "# A AJOUTER "
   ]
  },
  {
   "cell_type": "markdown",
   "metadata": {},
   "source": [
    "Si il existe des mots qui ont le même ratio que le mots principal on prend le mot qui a la plus petite taille. On choisit dans un premier temps les mots aux petites distances. Si il ya coincidence on prend celui qui le plus grand ratio."
   ]
  },
  {
   "cell_type": "code",
   "execution_count": null,
   "metadata": {},
   "outputs": [],
   "source": []
  },
  {
   "cell_type": "code",
   "execution_count": null,
   "metadata": {},
   "outputs": [],
   "source": []
  }
 ],
 "metadata": {
  "kernelspec": {
   "display_name": "Python 3",
   "language": "python",
   "name": "python3"
  },
  "language_info": {
   "codemirror_mode": {
    "name": "ipython",
    "version": 3
   },
   "file_extension": ".py",
   "mimetype": "text/x-python",
   "name": "python",
   "nbconvert_exporter": "python",
   "pygments_lexer": "ipython3",
   "version": "3.8.5"
  }
 },
 "nbformat": 4,
 "nbformat_minor": 4
}
